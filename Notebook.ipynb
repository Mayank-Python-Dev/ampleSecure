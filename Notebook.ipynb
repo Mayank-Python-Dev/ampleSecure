{
 "cells": [
  {
   "cell_type": "markdown",
   "id": "127d56a8",
   "metadata": {},
   "source": [
    "Initialize Django Setup"
   ]
  },
  {
   "cell_type": "code",
   "execution_count": 1,
   "id": "4eebc096",
   "metadata": {},
   "outputs": [],
   "source": [
    "import os\n",
    "import django\n",
    "import pandas as pd\n",
    "from django_pandas.io import read_frame\n",
    "os.environ.setdefault('DJANGO_SETTINGS_MODULE', 'ampleSecure.settings')\n",
    "os.environ[\"DJANGO_ALLOW_ASYNC_UNSAFE\"] = \"true\"\n",
    "django.setup()"
   ]
  },
  {
   "cell_type": "markdown",
   "id": "b575dfaa",
   "metadata": {},
   "source": [
    "Writing Code for Admin Client Cases"
   ]
  },
  {
   "cell_type": "code",
   "execution_count": 4,
   "id": "38e422dc",
   "metadata": {},
   "outputs": [],
   "source": [
    "from tasks.models import (\n",
    "    TaskForRiskCoordinator\n",
    ")"
   ]
  },
  {
   "cell_type": "code",
   "execution_count": 7,
   "id": "01c84e39",
   "metadata": {},
   "outputs": [],
   "source": [
    "get_admin_client_cases = TaskForRiskCoordinator.objects.filter(user__uid = \"0a13de9e-3c44-4c23-b236-50791d4484ad\").values(\"case__client\")"
   ]
  },
  {
   "cell_type": "code",
   "execution_count": 8,
   "id": "6601a3ca",
   "metadata": {},
   "outputs": [
    {
     "data": {
      "text/plain": [
       "<QuerySet [{'case__client': UUID('4af97ffd-8fbb-4dc6-aa86-a2f9a9c428a5')}]>"
      ]
     },
     "execution_count": 8,
     "metadata": {},
     "output_type": "execute_result"
    }
   ],
   "source": [
    "get_admin_client_cases"
   ]
  },
  {
   "cell_type": "code",
   "execution_count": null,
   "id": "77b33d80",
   "metadata": {},
   "outputs": [],
   "source": []
  }
 ],
 "metadata": {
  "kernelspec": {
   "display_name": "Django Shell-Plus",
   "language": "python",
   "name": "django_extensions"
  },
  "language_info": {
   "codemirror_mode": {
    "name": "ipython",
    "version": 3
   },
   "file_extension": ".py",
   "mimetype": "text/x-python",
   "name": "python",
   "nbconvert_exporter": "python",
   "pygments_lexer": "ipython3",
   "version": "3.10.12"
  }
 },
 "nbformat": 4,
 "nbformat_minor": 5
}
